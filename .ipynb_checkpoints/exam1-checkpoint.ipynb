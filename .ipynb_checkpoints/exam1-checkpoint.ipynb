{
 "cells": [
  {
   "cell_type": "markdown",
   "metadata": {},
   "source": [
    "# Exam 1 (100 points total)\n",
    "\n",
    "As described in the course's Honor Code policy, you may use your notes, and anything provided as part of this course.  You may use your computed to access this allowed information, to use tools to answer these questions (i.e., Jupyter, word processing software, drawing software, and browser to access allowed information).  You may not collaborate with anyone else, and you may not access any websites not associated with the course, except for web-based drawing programs.\n",
    "\n",
    "For three of the problems, complete and submit this notebook.  In any problem asking for a query, you may decompose the problem into a simpler query that uses views.\n",
    "\n",
    "For two of the problems, you will turn in ER diagrams either electronically or on paper.  For electronic submission, you can use any drawing program of your choice, but you must submit PDF, PNG, JPG, or GIF files.  For paper submission, make sure to write your name legibly on it."
   ]
  },
  {
   "cell_type": "code",
   "execution_count": 3,
   "metadata": {
    "collapsed": false
   },
   "outputs": [
    {
     "name": "stdout",
     "output_type": "stream",
     "text": [
      "The sql extension is already loaded. To reload it, use:\n",
      "  %reload_ext sql\n"
     ]
    },
    {
     "data": {
      "text/plain": [
       "u'Connected: None@exam1.db'"
      ]
     },
     "execution_count": 3,
     "metadata": {},
     "output_type": "execute_result"
    }
   ],
   "source": [
    "%load_ext sql\n",
    "%sql sqlite:///exam1.db"
   ]
  },
  {
   "cell_type": "markdown",
   "metadata": {},
   "source": [
    "## Problem 1 (20 points)"
   ]
  },
  {
   "cell_type": "markdown",
   "metadata": {},
   "source": [
    "We will define two tables, each representing a matrix of numbers with 0-based indexing.  These example matrices happen to be $3 \\times 3$ in size.  A record is present for each matrix element."
   ]
  },
  {
   "cell_type": "code",
   "execution_count": 17,
   "metadata": {
    "collapsed": false
   },
   "outputs": [
    {
     "name": "stdout",
     "output_type": "stream",
     "text": [
      "Done.\n",
      "Done.\n",
      "Done.\n",
      "Done.\n",
      "1 rows affected.\n",
      "1 rows affected.\n",
      "1 rows affected.\n",
      "1 rows affected.\n",
      "1 rows affected.\n",
      "1 rows affected.\n",
      "1 rows affected.\n",
      "1 rows affected.\n",
      "1 rows affected.\n",
      "1 rows affected.\n",
      "1 rows affected.\n",
      "1 rows affected.\n",
      "1 rows affected.\n",
      "1 rows affected.\n",
      "1 rows affected.\n",
      "1 rows affected.\n",
      "1 rows affected.\n",
      "1 rows affected.\n",
      "1 rows affected.\n",
      "1 rows affected.\n",
      "1 rows affected.\n"
     ]
    },
    {
     "data": {
      "text/plain": [
       "[]"
      ]
     },
     "execution_count": 17,
     "metadata": {},
     "output_type": "execute_result"
    }
   ],
   "source": [
    "%%sql\n",
    "\n",
    "DROP TABLE IF EXISTS A;\n",
    "DROP TABLE IF EXISTS B;\n",
    "\n",
    "CREATE TABLE A (i INT, j INT, value INT, PRIMARY KEY (i,j));\n",
    "CREATE TABLE B (i INT, j INT, value INT, PRIMARY KEY (i,j));\n",
    "\n",
    "INSERT INTO A VALUES (0, 0, 4);\n",
    "INSERT INTO A VALUES (0, 1, 3);\n",
    "INSERT INTO A VALUES (0, 2, 7);\n",
    "INSERT INTO A VALUES (1, 0, 1);\n",
    "INSERT INTO A VALUES (1, 1, 5);\n",
    "INSERT INTO A VALUES (1, 2, 2);\n",
    "INSERT INTO A VALUES (2, 0, 8);\n",
    "INSERT INTO A VALUES (2, 1, 3);\n",
    "INSERT INTO A VALUES (2, 2, 2);\n",
    "\n",
    "INSERT INTO B VALUES (0, 0, 2);\n",
    "INSERT INTO B VALUES (0, 1, 1);\n",
    "INSERT INTO B VALUES (0, 2, 8);\n",
    "INSERT INTO B VALUES (1, 0, 4);\n",
    "INSERT INTO B VALUES (1, 1, 6);\n",
    "INSERT INTO B VALUES (1, 2, 2);\n",
    "INSERT INTO B VALUES (2, 0, 1);\n",
    "INSERT INTO B VALUES (2, 1, 9);\n",
    "INSERT INTO B VALUES (2, 2, 2);\n",
    "INSERT INTO B VALUES (0, 3, 2);\n",
    "INSERT INTO B VALUES (1, 3, 2);\n",
    "INSERT INTO B VALUES (2, 3, 2);"
   ]
  },
  {
   "cell_type": "markdown",
   "metadata": {},
   "source": [
    "Write a query that results in the multiplication of the two matrices: $AB$.\n",
    "$$ (AB)_{ij} = \\sum_{k=0}^{m-1} A_{ik} B_{kj} $$\n",
    "It should have the columns <code>i</code>, <code>j</code>, and <code>value</code>.\n",
    "It should have a row for each element of the result.\n",
    "Your query should work for any matrices $A$ and $B$ of sizes $n \\times m$ and $m \\times p$, respectively.\n",
    "\n",
    "Feel free to change the sample data to further test your query."
   ]
  },
  {
   "cell_type": "code",
   "execution_count": 18,
   "metadata": {
    "collapsed": false
   },
   "outputs": [
    {
     "name": "stdout",
     "output_type": "stream",
     "text": [
      "Done.\n",
      "Done.\n",
      "Done.\n"
     ]
    },
    {
     "data": {
      "text/html": [
       "<table>\n",
       "    <tr>\n",
       "        <th>i</th>\n",
       "        <th>j</th>\n",
       "        <th>value</th>\n",
       "    </tr>\n",
       "    <tr>\n",
       "        <td>0</td>\n",
       "        <td>0</td>\n",
       "        <td>27</td>\n",
       "    </tr>\n",
       "    <tr>\n",
       "        <td>0</td>\n",
       "        <td>1</td>\n",
       "        <td>85</td>\n",
       "    </tr>\n",
       "    <tr>\n",
       "        <td>0</td>\n",
       "        <td>2</td>\n",
       "        <td>52</td>\n",
       "    </tr>\n",
       "    <tr>\n",
       "        <td>0</td>\n",
       "        <td>3</td>\n",
       "        <td>28</td>\n",
       "    </tr>\n",
       "    <tr>\n",
       "        <td>1</td>\n",
       "        <td>0</td>\n",
       "        <td>24</td>\n",
       "    </tr>\n",
       "    <tr>\n",
       "        <td>1</td>\n",
       "        <td>1</td>\n",
       "        <td>49</td>\n",
       "    </tr>\n",
       "    <tr>\n",
       "        <td>1</td>\n",
       "        <td>2</td>\n",
       "        <td>22</td>\n",
       "    </tr>\n",
       "    <tr>\n",
       "        <td>1</td>\n",
       "        <td>3</td>\n",
       "        <td>16</td>\n",
       "    </tr>\n",
       "    <tr>\n",
       "        <td>2</td>\n",
       "        <td>0</td>\n",
       "        <td>30</td>\n",
       "    </tr>\n",
       "    <tr>\n",
       "        <td>2</td>\n",
       "        <td>1</td>\n",
       "        <td>44</td>\n",
       "    </tr>\n",
       "    <tr>\n",
       "        <td>2</td>\n",
       "        <td>2</td>\n",
       "        <td>74</td>\n",
       "    </tr>\n",
       "    <tr>\n",
       "        <td>2</td>\n",
       "        <td>3</td>\n",
       "        <td>26</td>\n",
       "    </tr>\n",
       "</table>"
      ],
      "text/plain": [
       "[(0, 0, 27),\n",
       " (0, 1, 85),\n",
       " (0, 2, 52),\n",
       " (0, 3, 28),\n",
       " (1, 0, 24),\n",
       " (1, 1, 49),\n",
       " (1, 2, 22),\n",
       " (1, 3, 16),\n",
       " (2, 0, 30),\n",
       " (2, 1, 44),\n",
       " (2, 2, 74),\n",
       " (2, 3, 26)]"
      ]
     },
     "execution_count": 18,
     "metadata": {},
     "output_type": "execute_result"
    }
   ],
   "source": [
    "%%sql\n",
    "DROP VIEW IF EXISTS MatchedColumns;\n",
    "\n",
    "CREATE VIEW MatchedColumns AS\n",
    "SELECT A.i AS Ai, A.j AS Aj, A.value AS Aval, B.i AS Bi, B.j AS Bj, B.value AS Bval\n",
    "FROM A, B\n",
    "WHERE A.j=B.i\n",
    "ORDER BY A.i,B.j;\n",
    "\n",
    "SELECT Ai AS i, Bj AS j, SUM(Aval*Bval) AS value\n",
    "FROM MatchedColumns\n",
    "GROUP BY Ai, Bj;"
   ]
  },
  {
   "cell_type": "markdown",
   "metadata": {},
   "source": [
    "## Problem 2 (20 points)\n",
    "\n",
    "We define a single table of numbers with some sample data."
   ]
  },
  {
   "cell_type": "code",
   "execution_count": 75,
   "metadata": {
    "collapsed": false
   },
   "outputs": [
    {
     "name": "stdout",
     "output_type": "stream",
     "text": [
      "Done.\n",
      "Done.\n",
      "1 rows affected.\n",
      "1 rows affected.\n",
      "1 rows affected.\n",
      "1 rows affected.\n",
      "1 rows affected.\n",
      "1 rows affected.\n",
      "1 rows affected.\n",
      "1 rows affected.\n",
      "1 rows affected.\n",
      "1 rows affected.\n",
      "1 rows affected.\n",
      "1 rows affected.\n",
      "Done.\n"
     ]
    },
    {
     "data": {
      "text/plain": [
       "[]"
      ]
     },
     "execution_count": 75,
     "metadata": {},
     "output_type": "execute_result"
    }
   ],
   "source": [
    "%%sql\n",
    "\n",
    "DROP TABLE IF EXISTS N;\n",
    "\n",
    "CREATE TABLE N (i INT);\n",
    "\n",
    "INSERT INTO N VALUES (5);\n",
    "INSERT INTO N VALUES (1);\n",
    "INSERT INTO N VALUES (12);\n",
    "INSERT INTO N VALUES (7);\n",
    "INSERT INTO N VALUES (20);\n",
    "INSERT INTO N VALUES (2);\n",
    "INSERT INTO N VALUES (14);\n",
    "INSERT INTO N VALUES (18);\n",
    "INSERT INTO N VALUES (12);\n",
    "INSERT INTO N VALUES (8);\n",
    "INSERT INTO N VALUES (19);\n",
    "INSERT INTO N VALUES (5);\n",
    "\n",
    "-- The median of this data is 10, i.e., the average of 8 and 12."
   ]
  },
  {
   "cell_type": "markdown",
   "metadata": {},
   "source": [
    "Write a query that results in one number, the median of the data.  Your query should work for table $N$ of any size.  When there are an even number of values, we will use the definition of median that takes the average of the two middle-valued numbers.  If there is no data, the query should result in NULL.\n",
    "\n",
    "For this problem, you are *not* allowed to use sorting.  Instead, you will need to appeal to the definition of the median as (roughly) the value such that half the numbers are bigger and half the numbers are smaller.\n",
    "\n",
    "Feel free to change the sample data to further test your query."
   ]
  },
  {
   "cell_type": "code",
   "execution_count": 76,
   "metadata": {
    "collapsed": false
   },
   "outputs": [
    {
     "name": "stdout",
     "output_type": "stream",
     "text": [
      "Done.\n",
      "Done.\n",
      "Done.\n",
      "Done.\n",
      "Done.\n",
      "Done.\n",
      "Done.\n"
     ]
    },
    {
     "data": {
      "text/html": [
       "<table>\n",
       "    <tr>\n",
       "        <th>Median</th>\n",
       "    </tr>\n",
       "    <tr>\n",
       "        <td>10.0</td>\n",
       "    </tr>\n",
       "</table>"
      ],
      "text/plain": [
       "[(10.0,)]"
      ]
     },
     "execution_count": 76,
     "metadata": {},
     "output_type": "execute_result"
    }
   ],
   "source": [
    "%%sql\n",
    "DROP VIEW IF EXISTS BiggerCount;\n",
    "DROP VIEW IF EXISTS SmallerCount;\n",
    "DROP VIEW IF EXISTS Counts;\n",
    "\n",
    "CREATE VIEW BiggerCount AS\n",
    "SELECT N.i, COUNT(DISTINCT N2.i) AS NumBigger\n",
    "FROM N, N AS N2\n",
    "WHERE N2.i>=N.i\n",
    "GROUP BY N.i;\n",
    "\n",
    "CREATE VIEW SmallerCount AS\n",
    "SELECT N.i, COUNT(DISTINCT N2.i) AS NumSmaller\n",
    "FROM N, N AS N2\n",
    "WHERE N2.i<=N.i\n",
    "GROUP BY N.i;\n",
    "\n",
    "CREATE VIEW Counts AS\n",
    "SELECT BiggerCount.i, NumBigger, NumSmaller\n",
    "FROM BiggerCount,SmallerCount\n",
    "WHERE BiggerCount.i=SmallerCount.i;\n",
    "\n",
    "SELECT AVG(i) AS Median\n",
    "FROM Counts\n",
    "WHERE (NumBigger-NumSmaller=1)OR(NumBigger-NumSmaller=-1)OR(NumBigger-NumSmaller=0);"
   ]
  },
  {
   "cell_type": "markdown",
   "metadata": {},
   "source": [
    "## Problem 3 (20 points)\n",
    "\n",
    "Provide an entity-relationship diagram that most accurately describes the following scenario.  You can provide any supplementary notes about your choices as part of the ERD.\n",
    "\n",
    "An auto insurance company needs to keep track of their customers' auto accidents.  Each accident gets a single accident report number, even if multiple insured drivers were involved.  For an accident, we need to know what car was involved and who was driving it.  We also need to know who owns the car.  After an auto accident, the insurance company assesses the car and assigns a value to the amount of damage it sustained.\n",
    "\n",
    "People are indexed by their driver license number, but we also know their name and address.  Each car has a VIN, or Vehicle Identification Number, a model and year.  Each accident happens at some location, at some particular date and time.  The insurance company and the insured driver refer to the accident report by its number."
   ]
  },
  {
   "cell_type": "markdown",
   "metadata": {},
   "source": [
    "## Problem 4 (20 points)\n",
    "\n",
    "Provide an entity-relationship diagram that most accurately describes the following scenario.  You can provide any supplementary notes about your choices as part of the ERD.\n",
    "\n",
    "Doctors perform tests on their patients, as part of their patient's visits, in order to see the results.  While the visit happens on some date at a particular time, the tests might be done later, at its own date and time.  The patient needs to have provided one reason for the visit.  Doctors need to know what the tests were for.  Every single test has a barcoded identifier associated with it and its results.\n",
    "\n",
    "Doctors have names and identification numbers.  While doctors can be identified in a number of ways (e.g., state license numbers, numbers issued by the DEA), our system will use its own IDs.  Each doctor practices one particular specialization.\n",
    "\n",
    "Patients also have names and identification numbers.  Rather simplistically, we only keep track of the name of each patient's insurance plan.\n",
    "\n",
    "(While it may be the case that the drivers in the previous problem now need to be patients in this problem, do not combine the two ERDs.)"
   ]
  },
  {
   "cell_type": "markdown",
   "metadata": {},
   "source": [
    "## Problem 5 (20 points)\n",
    "\n",
    "Consider the following ER diagram.\n",
    "![ERD](http://www.texample.net/media/tikz/examples/PNG/entity-relationship-diagram.png)\n",
    "The diagram's notation is slightly different from what we used.  The ISA triangle indicates that Mechanic and Salesman are non-disjoint subsets of Employee.  We used a circle with subset symbols, instead.\n",
    "\n",
    "Write schemas in the form of SQL <code>CREATE TABLE</code> statements that most accurately captures the semantics of this ERD.  Include the appropriate <code>PRIMARY KEY</code>, <code>FOREIGN KEY</code>, and <code>NOT NULL</code> constraints.  Since the ER diagram does not provide type information for the attributes, choose appropriate types based upon the attribute names and context."
   ]
  },
  {
   "cell_type": "code",
   "execution_count": 77,
   "metadata": {
    "collapsed": false
   },
   "outputs": [
    {
     "name": "stdout",
     "output_type": "stream",
     "text": [
      "Done.\n",
      "Done.\n",
      "Done.\n",
      "Done.\n",
      "Done.\n",
      "Done.\n",
      "Done.\n",
      "Done.\n"
     ]
    },
    {
     "data": {
      "text/plain": [
       "[]"
      ]
     },
     "execution_count": 77,
     "metadata": {},
     "output_type": "execute_result"
    }
   ],
   "source": [
    "%%sql\n",
    "\n",
    "CREATE TABLE Employee (\n",
    "    name VARCHAR(50),\n",
    "    number INT,\n",
    "    PRIMARY KEY (number)\n",
    ");\n",
    "\n",
    "CREATE TABLE Mechanic (\n",
    "    name VARCHAR(50),\n",
    "    number INT,\n",
    "    PRIMARY KEY (number),\n",
    "    FOREIGN KEY (number) REFERENCES Employee (number),\n",
    "    FOREIGN KEY (name) REFERENCES Employee (name)\n",
    ");\n",
    "\n",
    "CREATE TABLE Salesman (\n",
    "    name VARCHAR(50),\n",
    "    number INT,\n",
    "    PRIMARY KEY (number),\n",
    "    FOREIGN KEY (number) REFERENCES Employee (number),\n",
    "    FOREIGN KEY (name) REFERENCES Employee (name)\n",
    ");\n",
    "\n",
    "CREATE TABLE Client (\n",
    "    ID INT,\n",
    "    name VARCHAR(50),\n",
    "    phone CHAR(10),\n",
    "    address VARCHAR(50),\n",
    "    PRIMARY KEY (ID)\n",
    ");\n",
    "\n",
    "CREATE TABLE Car (\n",
    "    license VARCHAR(20),\n",
    "    manufacturer VARCHAR(50),\n",
    "    model VARCHAR(50),\n",
    "    year INT,\n",
    "    PRIMARY KEY (license)\n",
    ");\n",
    "\n",
    "CREATE TABLE RepairJob (\n",
    "    number INT,\n",
    "    mechanic_number INT,\n",
    "    car_license VARCHAR(20) NOT NULL,\n",
    "    description VARCHAR(100),\n",
    "    parts_cost DECIMAL(10,5),\n",
    "    work_cost DECIMAL(10,5),\n",
    "    PRIMARY KEY (number,mechanic_number),\n",
    "    FOREIGN KEY (mechanic_number) REFERENCES Mechanic (number),\n",
    "    FOREIGN KEY (car_license) REFERENCES Car (license)\n",
    ");\n",
    "\n",
    "CREATE TABLE Buys (\n",
    "    salesman_number INT,\n",
    "    client_ID INT,\n",
    "    car_license VARCHAR(20),\n",
    "    price DECIMAL(10,5),\n",
    "    date CHAR(10),\n",
    "    value DECIMAL(10,5),\n",
    "    PRIMARY KEY (salesman_number,client_ID,car_license),\n",
    "    FOREIGN KEY (salesman_number) REFERENCES Salesman (number),\n",
    "    FOREIGN KEY (car_license) REFERENCES Car (license),\n",
    "    FOREIGN KEY (client_ID) REFERENCES Client (ID)\n",
    ");\n",
    "\n",
    "CREATE TABLE Sells (\n",
    "    salesman_number INT,\n",
    "    client_ID INT,\n",
    "    car_license VARCHAR(20),\n",
    "    comission DECIMAL(10,5),\n",
    "    date CHAR(10),\n",
    "    value DECIMAL(10,5),\n",
    "    PRIMARY KEY (salesman_number,client_ID,car_license),\n",
    "    FOREIGN KEY (salesman_number) REFERENCES Salesman (number),\n",
    "    FOREIGN KEY (car_license) REFERENCES Car (license),\n",
    "    FOREIGN KEY (client_ID) REFERENCES Client (ID)\n",
    ");"
   ]
  },
  {
   "cell_type": "markdown",
   "metadata": {},
   "source": [
    "You can provide any supplementary notes about your choices in the following box."
   ]
  },
  {
   "cell_type": "markdown",
   "metadata": {},
   "source": []
  }
 ],
 "metadata": {
  "kernelspec": {
   "display_name": "Python 2",
   "language": "python",
   "name": "python2"
  },
  "language_info": {
   "codemirror_mode": {
    "name": "ipython",
    "version": 2
   },
   "file_extension": ".py",
   "mimetype": "text/x-python",
   "name": "python",
   "nbconvert_exporter": "python",
   "pygments_lexer": "ipython2",
   "version": "2.7.11"
  }
 },
 "nbformat": 4,
 "nbformat_minor": 0
}
