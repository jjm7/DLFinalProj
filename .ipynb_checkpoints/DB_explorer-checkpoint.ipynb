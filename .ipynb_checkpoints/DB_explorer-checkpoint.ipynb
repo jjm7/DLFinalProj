{
 "cells": [
  {
   "cell_type": "code",
   "execution_count": 93,
   "metadata": {
    "collapsed": true
   },
   "outputs": [],
   "source": [
    "import re\n",
    "import sqlite3\n",
    "import matplotlib.pyplot as plt\n",
    "from datetime import datetime\n",
    "from matplotlib.dates import MonthLocator, DateFormatter\n",
    "conn = sqlite3.connect('yelp.db')"
   ]
  },
  {
   "cell_type": "code",
   "execution_count": 94,
   "metadata": {
    "collapsed": false
   },
   "outputs": [
    {
     "name": "stdout",
     "output_type": "stream",
     "text": [
      "The sql extension is already loaded. To reload it, use:\n",
      "  %reload_ext sql\n"
     ]
    }
   ],
   "source": [
    "%load_ext sql\n",
    "%sql sqlite:///yelp.db\n",
    "%matplotlib inline"
   ]
  },
  {
   "cell_type": "markdown",
   "metadata": {},
   "source": [
    "### Create business_info table"
   ]
  },
  {
   "cell_type": "code",
   "execution_count": null,
   "metadata": {
    "collapsed": true
   },
   "outputs": [],
   "source": [
    "CREATE TABLE business_info(\n",
    "    business_id INT PRIMARY KEY NOT NULL,\n",
    "    name TEXT,\n",
    "    full_address TEXT,\n",
    "    city TEXT,\n",
    "    state TEXT,\n",
    "    latitude REAL,\n",
    "    longitude REAL,\n",
    "    stars REAL,\n",
    "    review_count INT,\n",
    "    open INT\n",
    "    )"
   ]
  },
  {
   "cell_type": "markdown",
   "metadata": {},
   "source": [
    "### Create business categories table"
   ]
  },
  {
   "cell_type": "code",
   "execution_count": 47,
   "metadata": {
    "collapsed": false
   },
   "outputs": [
    {
     "name": "stdout",
     "output_type": "stream",
     "text": [
      "(sqlite3.OperationalError) table business_categories already exists [SQL: u'CREATE TABLE business_categories(\\n    business_id INT,\\n    category TEXT,\\n    FOREIGN KEY(business_id) REFERENCES business_info(business_id)\\n)']\n"
     ]
    }
   ],
   "source": [
    "%%sql\n",
    "\n",
    "CREATE TABLE business_categories(\n",
    "    business_id INT,\n",
    "    category TEXT,\n",
    "    FOREIGN KEY(business_id) REFERENCES business_info(business_id)\n",
    ")"
   ]
  },
  {
   "cell_type": "code",
   "execution_count": 45,
   "metadata": {
    "collapsed": false
   },
   "outputs": [
    {
     "name": "stdout",
     "output_type": "stream",
     "text": [
      "Done.\n"
     ]
    },
    {
     "data": {
      "text/plain": [
       "[]"
      ]
     },
     "execution_count": 45,
     "metadata": {},
     "output_type": "execute_result"
    }
   ],
   "source": [
    "%%sql\n",
    "\n",
    "DROP TABLE business_categories"
   ]
  },
  {
   "cell_type": "markdown",
   "metadata": {},
   "source": [
    "### Create user table"
   ]
  },
  {
   "cell_type": "code",
   "execution_count": 69,
   "metadata": {
    "collapsed": false
   },
   "outputs": [
    {
     "name": "stdout",
     "output_type": "stream",
     "text": [
      "Done.\n"
     ]
    },
    {
     "data": {
      "text/plain": [
       "[]"
      ]
     },
     "execution_count": 69,
     "metadata": {},
     "output_type": "execute_result"
    }
   ],
   "source": [
    "%%sql\n",
    "\n",
    "CREATE TABLE user(\n",
    "    user_id INT PRIMARY KEY NOT NULL,\n",
    "    name TEXT,\n",
    "    review_count INT,\n",
    "    average_stars REAL,\n",
    "    votes_funny INT,\n",
    "    votes_useful INT,\n",
    "    votes_cool INT,\n",
    "    yelping_since TEXT,\n",
    "    fans INT\n",
    ")"
   ]
  },
  {
   "cell_type": "code",
   "execution_count": 76,
   "metadata": {
    "collapsed": false
   },
   "outputs": [
    {
     "name": "stdout",
     "output_type": "stream",
     "text": [
      "Done.\n"
     ]
    },
    {
     "data": {
      "text/html": [
       "<table>\n",
       "    <tr>\n",
       "        <th>COUNT(*)</th>\n",
       "    </tr>\n",
       "    <tr>\n",
       "        <td>686556</td>\n",
       "    </tr>\n",
       "</table>"
      ],
      "text/plain": [
       "[(686556,)]"
      ]
     },
     "execution_count": 76,
     "metadata": {},
     "output_type": "execute_result"
    }
   ],
   "source": [
    "%%sql\n",
    "-- SELECT * FROM user ORDER BY yelping_since DESC LIMIT 10;\n",
    "SELECT COUNT(*) FROM user"
   ]
  },
  {
   "cell_type": "markdown",
   "metadata": {},
   "source": [
    "### Create review table"
   ]
  },
  {
   "cell_type": "code",
   "execution_count": 18,
   "metadata": {
    "collapsed": false
   },
   "outputs": [
    {
     "name": "stdout",
     "output_type": "stream",
     "text": [
      "Done.\n"
     ]
    },
    {
     "data": {
      "text/plain": [
       "[]"
      ]
     },
     "execution_count": 18,
     "metadata": {},
     "output_type": "execute_result"
    }
   ],
   "source": [
    "%%sql\n",
    "DROP TABLE review"
   ]
  },
  {
   "cell_type": "code",
   "execution_count": 19,
   "metadata": {
    "collapsed": false
   },
   "outputs": [
    {
     "name": "stdout",
     "output_type": "stream",
     "text": [
      "Done.\n"
     ]
    },
    {
     "data": {
      "text/plain": [
       "[]"
      ]
     },
     "execution_count": 19,
     "metadata": {},
     "output_type": "execute_result"
    }
   ],
   "source": [
    "%%sql\n",
    "\n",
    "CREATE TABLE review(\n",
    "    business_id INT,\n",
    "    user_id INT,\n",
    "    stars REAL,\n",
    "    text TEXT,\n",
    "    date TEXT,\n",
    "    year INT,\n",
    "    month INT,\n",
    "    day INT, \n",
    "    votes_funny INT,\n",
    "    votes_useful INT,\n",
    "    votes_cool INT,\n",
    "    FOREIGN KEY(business_id) REFERENCES business_info(business_id),\n",
    "    FOREIGN KEY(user_id) REFERENCES user(user_id)\n",
    ")"
   ]
  },
  {
   "cell_type": "markdown",
   "metadata": {},
   "source": [
    "Must create index on business_id or aggregate functions will be very slow"
   ]
  },
  {
   "cell_type": "code",
   "execution_count": 22,
   "metadata": {
    "collapsed": false
   },
   "outputs": [
    {
     "name": "stdout",
     "output_type": "stream",
     "text": [
      "Done.\n"
     ]
    },
    {
     "data": {
      "text/html": [
       "<table>\n",
       "    <tr>\n",
       "        <th>business_id</th>\n",
       "        <th>user_id</th>\n",
       "        <th>stars</th>\n",
       "        <th>text</th>\n",
       "        <th>date</th>\n",
       "        <th>year</th>\n",
       "        <th>month</th>\n",
       "        <th>day</th>\n",
       "        <th>votes_funny</th>\n",
       "        <th>votes_useful</th>\n",
       "        <th>votes_cool</th>\n",
       "    </tr>\n",
       "    <tr>\n",
       "        <td>5UmKMjUEUNdYWqANhGckJw</td>\n",
       "        <td>PUFPaY9KxDAcGqfsorJp3Q</td>\n",
       "        <td>4.0</td>\n",
       "        <td>Mr Hoagie is an institution. Walking in, it does seem like a throwback to 30 years ago, old fashioned menu board, booths out of the 70s, and a large selection of food. Their speciality is the Italian Hoagie, and it is voted the best in the area year after year. I usually order the burger, while the patties are obviously cooked from frozen, all of the other ingredients are very fresh. Overall, its a good alternative to Subway, which is down the road.</td>\n",
       "        <td>2012-08-01</td>\n",
       "        <td>2012</td>\n",
       "        <td>8</td>\n",
       "        <td>1</td>\n",
       "        <td>0</td>\n",
       "        <td>0</td>\n",
       "        <td>0</td>\n",
       "    </tr>\n",
       "    <tr>\n",
       "        <td>5UmKMjUEUNdYWqANhGckJw</td>\n",
       "        <td>Iu6AxdBYGR4A0wspR9BYHA</td>\n",
       "        <td>5.0</td>\n",
       "        <td>Excellent food. Superb customer service. I miss the mario machines they used to have, but it's still a great place steeped in tradition.</td>\n",
       "        <td>2014-02-13</td>\n",
       "        <td>2014</td>\n",
       "        <td>2</td>\n",
       "        <td>13</td>\n",
       "        <td>0</td>\n",
       "        <td>0</td>\n",
       "        <td>0</td>\n",
       "    </tr>\n",
       "    <tr>\n",
       "        <td>5UmKMjUEUNdYWqANhGckJw</td>\n",
       "        <td>auESFwWvW42h6alXgFxAXQ</td>\n",
       "        <td>5.0</td>\n",
       "        <td>Yes this place is a little out dated and not opened on the weekend. But other than that the staff is always pleasant and fast to make your order. Which is always spot on fresh veggies on their hoggies and other food. They also have daily specials and ice cream which is really good. I had a banana split they piled the toppings on. They win pennysaver awards ever years i see why.</td>\n",
       "        <td>2015-10-31</td>\n",
       "        <td>2015</td>\n",
       "        <td>10</td>\n",
       "        <td>31</td>\n",
       "        <td>1</td>\n",
       "        <td>1</td>\n",
       "        <td>0</td>\n",
       "    </tr>\n",
       "    <tr>\n",
       "        <td>5UmKMjUEUNdYWqANhGckJw</td>\n",
       "        <td>qiczib2fO_1VBG8IoCGvVg</td>\n",
       "        <td>3.0</td>\n",
       "        <td>PROS: Italian hoagie was delicious.  Friendly counter employee. The restaurant was clean and neat. <br><br>CONS: The pizza was not good.  Pre-formed crust, NOT fresh dough.  The price of the failure of a pizza WAS NOT CHEAP EITHER.  <br><br>I guess the name says it all.  Get the hoagie, pass on the pizza.</td>\n",
       "        <td>2015-12-26</td>\n",
       "        <td>2015</td>\n",
       "        <td>12</td>\n",
       "        <td>26</td>\n",
       "        <td>0</td>\n",
       "        <td>0</td>\n",
       "        <td>0</td>\n",
       "    </tr>\n",
       "    <tr>\n",
       "        <td>5UmKMjUEUNdYWqANhGckJw</td>\n",
       "        <td>qEE5EvV-f-s7yHC0Z4ydJQ</td>\n",
       "        <td>2.0</td>\n",
       "        <td>First the only reason this place could possibly win best hoagie is because there's no competition. Two hoagies and a side of onion rings cost $25.74<br><br>So I'm thinking with the reader choice awards and $10 per 12\" hoagie these will be awesome. <br><br>I was sadly mistaken. <br><br>The only reason I didn't give one star is because is the bread &amp; dressing is fairly decent. <br><br>So on to the hoagies, the Italian is general run of the mill. Minimal meat and a ton of shredded lettuce. You get more meat at subway. Nothing really special &amp; NOT worthy of the $10 price tag. <br><br>Second, the steak hoagie, it is atrocious. <br>No cheese?!?!? You have to add cheese for $1 so now the steak hoagie is $11. That has so little amounts of meat that I thought I was eating a lettuce &amp; onion hoagie. I am thoroughly disappointed with this hoagie, possibly the worst value of a hoagie I've ever eaten. <br>I'm not say eating at subway is any better, but for the huge price difference you are better off doing so. <br>Check out pasquales down the road, better hoagie &amp; price.</td>\n",
       "        <td>2016-04-08</td>\n",
       "        <td>2016</td>\n",
       "        <td>4</td>\n",
       "        <td>8</td>\n",
       "        <td>0</td>\n",
       "        <td>1</td>\n",
       "        <td>0</td>\n",
       "    </tr>\n",
       "    <tr>\n",
       "        <td>5UmKMjUEUNdYWqANhGckJw</td>\n",
       "        <td>jBoH6qKGO7wdYyg_YjBcQA</td>\n",
       "        <td>1.0</td>\n",
       "        <td>Normally, I do not do reviews of an establishment unless the rating is exceptionally great or exceptionally bad.  If I had not felt sucker punched and mugged after I left Mr. Hoagie, I would not be writing this bad review.  On my first and last trip there, I paid $24.59 for two whole hoagies.  <br><br>1) The Italian (ordered because the woman (she) working there told me it was their most popular hoagie) I ordered with lettuce and onions (no tomato, italian dressing which all come free with the hoagie).  I had to pay $1 to add cheese to the hoagie.  Because I was traveling and would not be eating the hoagie right away, I asked for the italian on the side.  She told me there was a charge for the dressing on the side.  I passed on that on principle.  Are you kidding me?  I just saved her money by declining the tomato.  I was not going to pay for the dressing on the side.  At this point, I am certain something is not right and this place appears to me to be in financial trouble.  That pales in comparison to what happened next.  I opened the hoagie and there were three microscopically thin slices of meat on this hoagie.  Ham, salami, and bologna.  Bologna!?!?!?!?    Who in the hell puts disgusting bologna on an Italian hoagie?  That disqualifies that hoagie as an Italian.  The red flags indicating this place is in financial trouble are blinding my view.  One area of this hoagie only had one slice of bologna, no ham and no salami.<br><br>2)  The Steak hoagie came with nothing on it but lettuce, tomato, onions, and dressing.  I ordered it without lettuce, tomato, onions, or dressing.  I asked for mayo on the side.  I had to pay for that so I declined.  Are you kidding me?  I just saved them money by passing on the lettuce, tomato, fresh onions, and dressing!  I paid $3 to add sautéed mushrooms, onions, and cheese.  Here we go again.  Canned mushrooms that were not even cooked through (were still cold) and onions that were still crunchy/undercooked.  News flash:  you need to serve fresh mushrooms that have been sautéed (canned mushrooms are another sign this place is in financial trouble).  I literally had to open the hoagie to find the steak because I could not taste or see it.  The hoagie was 50% mushrooms, 30%onions, 10% cheese and 10% steak.<br><br>I could have personally made 10 whole hoagies with substantial quality ingredients and toppings for the $24.59 I paid for these two whole hoagies.  I intentionally patronize non-chain restaurants to support small businesses.  In this case, Never. Again.  (The hoagie bun was better than average.)  Wake up or you are going to lose your business.</td>\n",
       "        <td>2016-04-10</td>\n",
       "        <td>2016</td>\n",
       "        <td>4</td>\n",
       "        <td>10</td>\n",
       "        <td>0</td>\n",
       "        <td>0</td>\n",
       "        <td>0</td>\n",
       "    </tr>\n",
       "    <tr>\n",
       "        <td>5UmKMjUEUNdYWqANhGckJw</td>\n",
       "        <td>bWrodc7hN_T4q2r-rolrOA</td>\n",
       "        <td>4.0</td>\n",
       "        <td>I like this place a lot. It's a good toasted hoagie.<br><br>I actually don't like a my bun exploding with meat, but as a previous poster mentioned if you do maybe you wouldn't like this place.<br><br>The inside badly needs updated though. <br><br>The staff is friendly.</td>\n",
       "        <td>2016-05-11</td>\n",
       "        <td>2016</td>\n",
       "        <td>5</td>\n",
       "        <td>11</td>\n",
       "        <td>0</td>\n",
       "        <td>0</td>\n",
       "        <td>0</td>\n",
       "    </tr>\n",
       "    <tr>\n",
       "        <td>UsFtqoBl7naz8AVUBZMjQQ</td>\n",
       "        <td>uK8tzraOp4M5u3uYrqIBXg</td>\n",
       "        <td>5.0</td>\n",
       "        <td>All the food is great here. But the best thing they have is their wings. Their wings are simply fantastic!!  The \"Wet Cajun\" are by the best &amp; most popular.  I also like the seasoned salt wings.  Wing Night is Monday &amp; Wednesday night, $0.75 whole wings!<br><br>The dining area is nice. Very family friendly! The bar is very nice is well.  This place is truly a Yinzer's dream!!  \"Pittsburgh Dad\" would love this place n'at!!</td>\n",
       "        <td>2013-11-08</td>\n",
       "        <td>2013</td>\n",
       "        <td>11</td>\n",
       "        <td>8</td>\n",
       "        <td>0</td>\n",
       "        <td>0</td>\n",
       "        <td>0</td>\n",
       "    </tr>\n",
       "    <tr>\n",
       "        <td>UsFtqoBl7naz8AVUBZMjQQ</td>\n",
       "        <td>I_47G-R2_egp7ME5u_ltew</td>\n",
       "        <td>3.0</td>\n",
       "        <td>We checked this place out this past Monday for their wing night. We have heard that their wings are great and decided it was finally time to check it out. Their wings are whole wings and crispy, which is a nice change of pace. I got their wet Cajun sauce and garlic butter wings. The Cajun did not have a bold enough flavor for me and their sauce is too thin. The sauce was also thin for the garlic butter, but that is more expected. They were better than average, but I don't like seeing all the sauce resting at the bottom of the boat. I would definitely come try this place out again to sample some of the other items on the menu, but this will probably not become a regular stop for wings anytime soon.</td>\n",
       "        <td>2014-03-29</td>\n",
       "        <td>2014</td>\n",
       "        <td>3</td>\n",
       "        <td>29</td>\n",
       "        <td>0</td>\n",
       "        <td>0</td>\n",
       "        <td>0</td>\n",
       "    </tr>\n",
       "    <tr>\n",
       "        <td>UsFtqoBl7naz8AVUBZMjQQ</td>\n",
       "        <td>PP_xoMSYlGr2pb67BbqBdA</td>\n",
       "        <td>1.0</td>\n",
       "        <td>Wing sauce is like water. Pretty much a lot of butter and some hot sauce (franks red hot maybe).  The whole wings are good size and crispy, but for $1 a wing the sauce could be better. The hot and extra hot are about the same flavor/heat.  The fish sandwich is good and is a large portion, sides are decent.</td>\n",
       "        <td>2014-10-29</td>\n",
       "        <td>2014</td>\n",
       "        <td>10</td>\n",
       "        <td>29</td>\n",
       "        <td>0</td>\n",
       "        <td>0</td>\n",
       "        <td>0</td>\n",
       "    </tr>\n",
       "</table>"
      ],
      "text/plain": [
       "[(u'5UmKMjUEUNdYWqANhGckJw', u'PUFPaY9KxDAcGqfsorJp3Q', 4.0, u'Mr Hoagie is an institution. Walking in, it does seem like a throwback to 30 years ago, old fashioned menu board, booths out of the 70s, and a large selection of food. Their speciality is the Italian Hoagie, and it is voted the best in the area year after year. I usually order the burger, while the patties are obviously cooked from frozen, all of the other ingredients are very fresh. Overall, its a good alternative to Subway, which is down the road.', u'2012-08-01', 2012, 8, 1, 0, 0, 0),\n",
       " (u'5UmKMjUEUNdYWqANhGckJw', u'Iu6AxdBYGR4A0wspR9BYHA', 5.0, u\"Excellent food. Superb customer service. I miss the mario machines they used to have, but it's still a great place steeped in tradition.\", u'2014-02-13', 2014, 2, 13, 0, 0, 0),\n",
       " (u'5UmKMjUEUNdYWqANhGckJw', u'auESFwWvW42h6alXgFxAXQ', 5.0, u'Yes this place is a little out dated and not opened on the weekend. But other than that the staff is always pleasant and fast to make your order. Which is always spot on fresh veggies on their hoggies and other food. They also have daily specials and ice cream which is really good. I had a banana split they piled the toppings on. They win pennysaver awards ever years i see why.', u'2015-10-31', 2015, 10, 31, 1, 1, 0),\n",
       " (u'5UmKMjUEUNdYWqANhGckJw', u'qiczib2fO_1VBG8IoCGvVg', 3.0, u'PROS: Italian hoagie was delicious.  Friendly counter employee. The restaurant was clean and neat. \\n\\nCONS: The pizza was not good.  Pre-formed crust, NOT fresh dough.  The price of the failure of a pizza WAS NOT CHEAP EITHER.  \\n\\nI guess the name says it all.  Get the hoagie, pass on the pizza.', u'2015-12-26', 2015, 12, 26, 0, 0, 0),\n",
       " (u'5UmKMjUEUNdYWqANhGckJw', u'qEE5EvV-f-s7yHC0Z4ydJQ', 2.0, u'First the only reason this place could possibly win best hoagie is because there\\'s no competition. Two hoagies and a side of onion rings cost $25.74\\n\\nSo I\\'m thinking with the reader choice awards and $10 per 12\" hoagie these will be awesome. \\n\\nI was sadly mistaken. \\n\\nThe only reason I didn\\'t give one star is because is the bread & dressing is fairly decent. \\n\\nSo on to the hoagies, the Italian is general run of the mill. Minimal meat and a ton of shredded lettuce. You get more meat at subway. Nothing really special & NOT worthy of the $10 price tag. \\n\\nSecond, the steak hoagie, it is atrocious. \\nNo cheese?!?!? You have to add cheese for $1 so now the steak hoagie is $11. That has so little amounts of meat that I thought I was eating a lettuce & onion hoagie. I am thoroughly disappointed with this hoagie, possibly the worst value of a hoagie I\\'ve ever eaten. \\nI\\'m not say eating at subway is any better, but for the huge price difference you are better off doing so. \\nCheck out pasquales down the road, better hoagie & price.', u'2016-04-08', 2016, 4, 8, 0, 1, 0),\n",
       " (u'5UmKMjUEUNdYWqANhGckJw', u'jBoH6qKGO7wdYyg_YjBcQA', 1.0, u'Normally, I do not do reviews of an establishment unless the rating is exceptionally great or exceptionally bad.  If I had not felt sucker punched and mugged after I left Mr. Hoagie, I would not be writing this bad review.  On my first and last trip there, I paid $24.59 for two whole hoagies.  \\n\\n1) The Italian (ordered because the woman (she) working there told me it was their most popular hoagie) I ordered with lettuce and onions (no tomato, italian dressing which all come free with the hoagie).  I had to pay $1 to add cheese to the hoagie.  Because I was traveling and would not be eating the hoagie right away, I asked for the italian on the side.  She told me there was a charge for the dressing on the side.  I passed on that on principle.  Are you kidding me?  I just saved her money by declining the tomato.  I was not going to pay for the dressing on the side.  At this point, I am certain something is not right and this place appears to me to be in financial trouble.  That pales in comparison to what happened next.  I opened the hoagie and there were three microscopically thin slices of meat on this hoagie.  Ham, salami, and bologna.  Bologna!?!?!?!?    Who in the hell puts disgusting bologna on an Italian hoagie?  That disqualifies that hoagie as an Italian.  The red flags indicating this place is in financial trouble are blinding my view.  One area of this hoagie only had one slice of bologna, no ham and no salami.\\n\\n2)  The Steak hoagie came with nothing on it but lettuce, tomato, onions, and dressing.  I ordered it without lettuce, tomato, onions, or dressing.  I asked for mayo on the side.  I had to pay for that so I declined.  Are you kidding me?  I just saved them money by passing on the lettuce, tomato, fresh onions, and dressing!  I paid $3 to add saut\\xe9ed mushrooms, onions, and cheese.  Here we go again.  Canned mushrooms that were not even cooked through (were still cold) and onions that were still crunchy/undercooked.  News flash:  you need to serve fresh mushrooms that have been saut\\xe9ed (canned mushrooms are another sign this place is in financial trouble).  I literally had to open the hoagie to find the steak because I could not taste or see it.  The hoagie was 50% mushrooms, 30%onions, 10% cheese and 10% steak.\\n\\nI could have personally made 10 whole hoagies with substantial quality ingredients and toppings for the $24.59 I paid for these two whole hoagies.  I intentionally patronize non-chain restaurants to support small businesses.  In this case, Never. Again.  (The hoagie bun was better than average.)  Wake up or you are going to lose your business.', u'2016-04-10', 2016, 4, 10, 0, 0, 0),\n",
       " (u'5UmKMjUEUNdYWqANhGckJw', u'bWrodc7hN_T4q2r-rolrOA', 4.0, u\"I like this place a lot. It's a good toasted hoagie.\\n\\nI actually don't like a my bun exploding with meat, but as a previous poster mentioned if you do maybe you wouldn't like this place.\\n\\nThe inside badly needs updated though. \\n\\nThe staff is friendly.\", u'2016-05-11', 2016, 5, 11, 0, 0, 0),\n",
       " (u'UsFtqoBl7naz8AVUBZMjQQ', u'uK8tzraOp4M5u3uYrqIBXg', 5.0, u'All the food is great here. But the best thing they have is their wings. Their wings are simply fantastic!!  The \"Wet Cajun\" are by the best & most popular.  I also like the seasoned salt wings.  Wing Night is Monday & Wednesday night, $0.75 whole wings!\\n\\nThe dining area is nice. Very family friendly! The bar is very nice is well.  This place is truly a Yinzer\\'s dream!!  \"Pittsburgh Dad\" would love this place n\\'at!!', u'2013-11-08', 2013, 11, 8, 0, 0, 0),\n",
       " (u'UsFtqoBl7naz8AVUBZMjQQ', u'I_47G-R2_egp7ME5u_ltew', 3.0, u\"We checked this place out this past Monday for their wing night. We have heard that their wings are great and decided it was finally time to check it out. Their wings are whole wings and crispy, which is a nice change of pace. I got their wet Cajun sauce and garlic butter wings. The Cajun did not have a bold enough flavor for me and their sauce is too thin. The sauce was also thin for the garlic butter, but that is more expected. They were better than average, but I don't like seeing all the sauce resting at the bottom of the boat. I would definitely come try this place out again to sample some of the other items on the menu, but this will probably not become a regular stop for wings anytime soon.\", u'2014-03-29', 2014, 3, 29, 0, 0, 0),\n",
       " (u'UsFtqoBl7naz8AVUBZMjQQ', u'PP_xoMSYlGr2pb67BbqBdA', 1.0, u'Wing sauce is like water. Pretty much a lot of butter and some hot sauce (franks red hot maybe).  The whole wings are good size and crispy, but for $1 a wing the sauce could be better. The hot and extra hot are about the same flavor/heat.  The fish sandwich is good and is a large portion, sides are decent.', u'2014-10-29', 2014, 10, 29, 0, 0, 0)]"
      ]
     },
     "execution_count": 22,
     "metadata": {},
     "output_type": "execute_result"
    }
   ],
   "source": [
    "%%sql\n",
    "SELECT * FROM review LIMIT 10;"
   ]
  },
  {
   "cell_type": "markdown",
   "metadata": {},
   "source": [
    "### Create tips table"
   ]
  },
  {
   "cell_type": "code",
   "execution_count": 79,
   "metadata": {
    "collapsed": false
   },
   "outputs": [
    {
     "name": "stdout",
     "output_type": "stream",
     "text": [
      "Done.\n"
     ]
    },
    {
     "data": {
      "text/plain": [
       "[]"
      ]
     },
     "execution_count": 79,
     "metadata": {},
     "output_type": "execute_result"
    }
   ],
   "source": [
    "%%sql\n",
    "    \n",
    "CREATE TABLE tip(\n",
    "    business_id INT,\n",
    "    user_id INT,\n",
    "    text TEXT,\n",
    "    date TEXT,\n",
    "    year INT,\n",
    "    month INT,\n",
    "    day INT,\n",
    "    likes INT,\n",
    "    FOREIGN KEY(business_id) REFERENCES business_info(business_id),\n",
    "    FOREIGN KEY(user_id) REFERENCES user(user_id)\n",
    ")\n",
    "        "
   ]
  },
  {
   "cell_type": "code",
   "execution_count": 80,
   "metadata": {
    "collapsed": false
   },
   "outputs": [
    {
     "name": "stdout",
     "output_type": "stream",
     "text": [
      "Done.\n"
     ]
    },
    {
     "data": {
      "text/html": [
       "<table>\n",
       "    <tr>\n",
       "        <th>COUNT(*)</th>\n",
       "    </tr>\n",
       "    <tr>\n",
       "        <td>648902</td>\n",
       "    </tr>\n",
       "</table>"
      ],
      "text/plain": [
       "[(648902,)]"
      ]
     },
     "execution_count": 80,
     "metadata": {},
     "output_type": "execute_result"
    }
   ],
   "source": [
    "%%sql\n",
    "\n",
    "SELECT COUNT(*) FROM tip"
   ]
  },
  {
   "cell_type": "code",
   "execution_count": 116,
   "metadata": {
    "collapsed": false
   },
   "outputs": [
    {
     "name": "stdout",
     "output_type": "stream",
     "text": [
      "Done.\n"
     ]
    },
    {
     "data": {
      "text/plain": [
       "[]"
      ]
     },
     "execution_count": 116,
     "metadata": {},
     "output_type": "execute_result"
    }
   ],
   "source": [
    "%%sql\n",
    "--DROP TABLE tip"
   ]
  },
  {
   "cell_type": "code",
   "execution_count": 9,
   "metadata": {
    "collapsed": false
   },
   "outputs": [
    {
     "name": "stdout",
     "output_type": "stream",
     "text": [
      "Done.\n"
     ]
    },
    {
     "data": {
      "text/html": [
       "<table>\n",
       "    <tr>\n",
       "        <th>business_id</th>\n",
       "        <th>year</th>\n",
       "        <th>month</th>\n",
       "        <th>COUNT()</th>\n",
       "    </tr>\n",
       "    <tr>\n",
       "        <td>T8-P1-wD99kle299ixDItw</td>\n",
       "        <td>2014</td>\n",
       "        <td>9</td>\n",
       "        <td>4</td>\n",
       "    </tr>\n",
       "    <tr>\n",
       "        <td>T8-P1-wD99kle299ixDItw</td>\n",
       "        <td>2014</td>\n",
       "        <td>10</td>\n",
       "        <td>3</td>\n",
       "    </tr>\n",
       "    <tr>\n",
       "        <td>T8-P1-wD99kle299ixDItw</td>\n",
       "        <td>2014</td>\n",
       "        <td>11</td>\n",
       "        <td>3</td>\n",
       "    </tr>\n",
       "    <tr>\n",
       "        <td>T8-P1-wD99kle299ixDItw</td>\n",
       "        <td>2014</td>\n",
       "        <td>12</td>\n",
       "        <td>1</td>\n",
       "    </tr>\n",
       "    <tr>\n",
       "        <td>T8-P1-wD99kle299ixDItw</td>\n",
       "        <td>2015</td>\n",
       "        <td>1</td>\n",
       "        <td>4</td>\n",
       "    </tr>\n",
       "    <tr>\n",
       "        <td>T8-P1-wD99kle299ixDItw</td>\n",
       "        <td>2015</td>\n",
       "        <td>2</td>\n",
       "        <td>2</td>\n",
       "    </tr>\n",
       "    <tr>\n",
       "        <td>T8-P1-wD99kle299ixDItw</td>\n",
       "        <td>2015</td>\n",
       "        <td>3</td>\n",
       "        <td>1</td>\n",
       "    </tr>\n",
       "    <tr>\n",
       "        <td>T8-P1-wD99kle299ixDItw</td>\n",
       "        <td>2015</td>\n",
       "        <td>4</td>\n",
       "        <td>2</td>\n",
       "    </tr>\n",
       "    <tr>\n",
       "        <td>T8-P1-wD99kle299ixDItw</td>\n",
       "        <td>2015</td>\n",
       "        <td>5</td>\n",
       "        <td>1</td>\n",
       "    </tr>\n",
       "    <tr>\n",
       "        <td>T8-P1-wD99kle299ixDItw</td>\n",
       "        <td>2015</td>\n",
       "        <td>6</td>\n",
       "        <td>3</td>\n",
       "    </tr>\n",
       "    <tr>\n",
       "        <td>T8-P1-wD99kle299ixDItw</td>\n",
       "        <td>2015</td>\n",
       "        <td>7</td>\n",
       "        <td>1</td>\n",
       "    </tr>\n",
       "    <tr>\n",
       "        <td>T8-P1-wD99kle299ixDItw</td>\n",
       "        <td>2015</td>\n",
       "        <td>8</td>\n",
       "        <td>1</td>\n",
       "    </tr>\n",
       "    <tr>\n",
       "        <td>T8-P1-wD99kle299ixDItw</td>\n",
       "        <td>2015</td>\n",
       "        <td>10</td>\n",
       "        <td>2</td>\n",
       "    </tr>\n",
       "    <tr>\n",
       "        <td>T8-P1-wD99kle299ixDItw</td>\n",
       "        <td>2015</td>\n",
       "        <td>11</td>\n",
       "        <td>5</td>\n",
       "    </tr>\n",
       "    <tr>\n",
       "        <td>T8-P1-wD99kle299ixDItw</td>\n",
       "        <td>2016</td>\n",
       "        <td>1</td>\n",
       "        <td>3</td>\n",
       "    </tr>\n",
       "    <tr>\n",
       "        <td>T8-P1-wD99kle299ixDItw</td>\n",
       "        <td>2016</td>\n",
       "        <td>3</td>\n",
       "        <td>1</td>\n",
       "    </tr>\n",
       "    <tr>\n",
       "        <td>T8-P1-wD99kle299ixDItw</td>\n",
       "        <td>2016</td>\n",
       "        <td>4</td>\n",
       "        <td>5</td>\n",
       "    </tr>\n",
       "    <tr>\n",
       "        <td>T8-P1-wD99kle299ixDItw</td>\n",
       "        <td>2016</td>\n",
       "        <td>5</td>\n",
       "        <td>3</td>\n",
       "    </tr>\n",
       "    <tr>\n",
       "        <td>T8-P1-wD99kle299ixDItw</td>\n",
       "        <td>2016</td>\n",
       "        <td>6</td>\n",
       "        <td>1</td>\n",
       "    </tr>\n",
       "    <tr>\n",
       "        <td>T8-P1-wD99kle299ixDItw</td>\n",
       "        <td>2016</td>\n",
       "        <td>7</td>\n",
       "        <td>1</td>\n",
       "    </tr>\n",
       "</table>"
      ],
      "text/plain": [
       "[(u'T8-P1-wD99kle299ixDItw', 2014, 9, 4),\n",
       " (u'T8-P1-wD99kle299ixDItw', 2014, 10, 3),\n",
       " (u'T8-P1-wD99kle299ixDItw', 2014, 11, 3),\n",
       " (u'T8-P1-wD99kle299ixDItw', 2014, 12, 1),\n",
       " (u'T8-P1-wD99kle299ixDItw', 2015, 1, 4),\n",
       " (u'T8-P1-wD99kle299ixDItw', 2015, 2, 2),\n",
       " (u'T8-P1-wD99kle299ixDItw', 2015, 3, 1),\n",
       " (u'T8-P1-wD99kle299ixDItw', 2015, 4, 2),\n",
       " (u'T8-P1-wD99kle299ixDItw', 2015, 5, 1),\n",
       " (u'T8-P1-wD99kle299ixDItw', 2015, 6, 3),\n",
       " (u'T8-P1-wD99kle299ixDItw', 2015, 7, 1),\n",
       " (u'T8-P1-wD99kle299ixDItw', 2015, 8, 1),\n",
       " (u'T8-P1-wD99kle299ixDItw', 2015, 10, 2),\n",
       " (u'T8-P1-wD99kle299ixDItw', 2015, 11, 5),\n",
       " (u'T8-P1-wD99kle299ixDItw', 2016, 1, 3),\n",
       " (u'T8-P1-wD99kle299ixDItw', 2016, 3, 1),\n",
       " (u'T8-P1-wD99kle299ixDItw', 2016, 4, 5),\n",
       " (u'T8-P1-wD99kle299ixDItw', 2016, 5, 3),\n",
       " (u'T8-P1-wD99kle299ixDItw', 2016, 6, 1),\n",
       " (u'T8-P1-wD99kle299ixDItw', 2016, 7, 1)]"
      ]
     },
     "execution_count": 9,
     "metadata": {},
     "output_type": "execute_result"
    }
   ],
   "source": [
    "%%sql\n",
    "\n",
    "WITH businesses AS (\n",
    "    SELECT *\n",
    "    FROM business_info\n",
    "    WHERE review_count>30\n",
    "    ORDER BY RANDOM()\n",
    "    LIMIT 1\n",
    ")\n",
    "SELECT businesses.business_id, year, month, COUNT()\n",
    "FROM businesses\n",
    "INNER JOIN review ON businesses.business_id=review.business_id\n",
    "GROUP BY businesses.business_id, year, month\n",
    "\n"
   ]
  },
  {
   "cell_type": "code",
   "execution_count": 10,
   "metadata": {
    "collapsed": false
   },
   "outputs": [
    {
     "name": "stdout",
     "output_type": "stream",
     "text": [
      "Done.\n"
     ]
    },
    {
     "data": {
      "text/plain": [
       "[]"
      ]
     },
     "execution_count": 10,
     "metadata": {},
     "output_type": "execute_result"
    }
   ],
   "source": [
    "%%sql\n",
    "--ALTER TABLE review ADD COLUMN day int;\n",
    "--SELECT * FROM review LIMIT 1;"
   ]
  },
  {
   "cell_type": "markdown",
   "metadata": {},
   "source": [
    "### Visualize Review trends"
   ]
  },
  {
   "cell_type": "code",
   "execution_count": 111,
   "metadata": {
    "collapsed": false
   },
   "outputs": [
    {
     "name": "stdout",
     "output_type": "stream",
     "text": [
      "[(u'frZdH7hTGIs7nykH4jeIPA', u'The New E', u'3887 W Chandler Blvd\\nChandler, AZ 85226', u'Chandler', u'AZ', 33.3053796, -111.9092262, 4.0, 84, 1)]\n"
     ]
    },
    {
     "data": {
      "image/png": "[encoded data removed]",
      "text/plain": [
       "<matplotlib.figure.Figure at 0x120e5ef90>"
      ]
     },
     "metadata": {},
     "output_type": "display_data"
    }
   ],
   "source": [
    "c = conn.cursor()\n",
    "c.execute(\"\"\"\n",
    "WITH businesses AS (\n",
    "    SELECT *\n",
    "    FROM business_info\n",
    "    WHERE review_count>30\n",
    "    ORDER BY RANDOM()\n",
    "    LIMIT 1\n",
    ")\n",
    "SELECT businesses.business_id, year, month, COUNT(), AVG(review.stars)\n",
    "FROM businesses\n",
    "INNER JOIN review ON businesses.business_id=review.business_id\n",
    "INNER JOIN tip ON businesses.business_id=tip.business_id\n",
    "GROUP BY businesses.business_id, year, month\n",
    "\"\"\")\n",
    "result = c.fetchall()\n",
    "\n",
    "def add_month(a_date):\n",
    "    if a_date.month==12:\n",
    "        return datetime(a_date.year+1, 1, 1)\n",
    "    else:\n",
    "        return datetime(a_date.year, a_date.month+1, 1)\n",
    "    \n",
    "year_month = [datetime(result[0][1], result[0][2], 1)]\n",
    "num_reviews = [result[0][3]]\n",
    "stars = [result[0][4]]\n",
    "##Interpolate months with no reviews with 0 counts\n",
    "for i in xrange(1, len(result)-1):\n",
    "    prev_date = year_month[-1]\n",
    "    next_tup = result[i]\n",
    "    next_date = datetime(next_tup[1], next_tup[2], 1)\n",
    "    curr_date = add_month(prev_date)\n",
    "    while curr_date < next_date:\n",
    "        year_month.append(curr_date)\n",
    "        num_reviews.append(0)\n",
    "        stars.append(stars[-1])\n",
    "        curr_date = add_month(curr_date)\n",
    "    year_month.append(next_date)\n",
    "    num_reviews.append(next_tup[3])\n",
    "    stars.append(next_tup[4])\n",
    "    \n",
    "f = plt.figure(figsize=(20,6))\n",
    "plt.plot_date(year_month, num_reviews,'b')\n",
    "plt.plot_date(year_month, stars,'r')\n",
    "x1,x2,y1,y2 = plt.axis()\n",
    "plt.axis((x1,x2,0,y2))\n",
    "\n",
    "#print related business info\n",
    "c.execute(\"\"\"\n",
    "SELECT * FROM business_info WHERE business_id='%s'\n",
    "\"\"\"%result[0][0])\n",
    "print c.fetchall()"
   ]
  },
  {
   "cell_type": "code",
   "execution_count": 98,
   "metadata": {
    "collapsed": false
   },
   "outputs": [
    {
     "data": {
      "text/plain": [
       "(735112.0, 736116.0, 0, 6.0)"
      ]
     },
     "execution_count": 98,
     "metadata": {},
     "output_type": "execute_result"
    },
    {
     "data": {
      "image/png": "[encoded data removed]",
      "text/plain": [
       "<matplotlib.figure.Figure at 0x11d947610>"
      ]
     },
     "metadata": {},
     "output_type": "display_data"
    }
   ],
   "source": [
    "f = plt.figure(figsize=(20,6))\n",
    "plt.plot_date(year_month, num_reviews,'bo')\n",
    "x1,x2,y1,y2 = plt.axis()\n",
    "plt.axis((x1,x2,0,y2))"
   ]
  },
  {
   "cell_type": "code",
   "execution_count": 48,
   "metadata": {
    "collapsed": false
   },
   "outputs": [
    {
     "name": "stdout",
     "output_type": "stream",
     "text": [
      "Done.\n"
     ]
    },
    {
     "data": {
      "text/html": [
       "<table>\n",
       "    <tr>\n",
       "        <th>MIN(date)</th>\n",
       "    </tr>\n",
       "    <tr>\n",
       "        <td>2004-10-12</td>\n",
       "    </tr>\n",
       "</table>"
      ],
      "text/plain": [
       "[(u'2004-10-12',)]"
      ]
     },
     "execution_count": 48,
     "metadata": {},
     "output_type": "execute_result"
    }
   ],
   "source": [
    "%%sql\n",
    "\n",
    "SELECT MAX(date)\n",
    "FROM review\n",
    "\n",
    "--min date: 2004-10-12"
   ]
  },
  {
   "cell_type": "code",
   "execution_count": 90,
   "metadata": {
    "collapsed": false
   },
   "outputs": [
    {
     "data": {
      "text/plain": [
       "[(u'FN0sVCC23RqzW3bM9T4dlg',\n",
       "  u'KODE Salon',\n",
       "  u'2039 Winnebago St\\nSte 4\\nSchenk - Atwood\\nMadison, WI 53704',\n",
       "  u'Madison',\n",
       "  u'WI',\n",
       "  43.092996,\n",
       "  -89.353852,\n",
       "  4.5,\n",
       "  38,\n",
       "  0)]"
      ]
     },
     "execution_count": 90,
     "metadata": {},
     "output_type": "execute_result"
    }
   ],
   "source": [
    "c.execute(\"\"\"\n",
    "SELECT * FROM business_info WHERE business_id='%s'\n",
    "\"\"\"%result[0][0])\n",
    "c.fetchall()"
   ]
  },
  {
   "cell_type": "code",
   "execution_count": 115,
   "metadata": {
    "collapsed": false
   },
   "outputs": [
    {
     "name": "stdout",
     "output_type": "stream",
     "text": [
      "(sqlite3.OperationalError) no such column: year [SQL: u'WITH businesses AS (\\n    SELECT *\\n    FROM business_info\\n    WHERE review_count>30\\n    ORDER BY RANDOM()\\n    LIMIT 1\\n), business_review AS(\\n    SELECT businesses.business_id, year, month, COUNT() AS review_count, AVG(review.stars) AS avg_stars\\n    FROM businesses\\n    INNER JOIN review ON businesses.business_id=review.business_id\\n    GROUP BY businesses.business_id, year, month\\n), business_tips AS(\\n    SELECT businesses.business_id, year, month, COUNT() AS tip_count\\n    FROM businesses\\n    INNER JOIN tip ON businesses.business_id=tip.business_id\\n    GROUP BY businesses.business_id, year, month\\n)\\nSELECT * FROM business_tips']\n"
     ]
    }
   ],
   "source": [
    "%%sql\n",
    "WITH businesses AS (\n",
    "    SELECT *\n",
    "    FROM business_info\n",
    "    WHERE review_count>30\n",
    "    ORDER BY RANDOM()\n",
    "    LIMIT 1\n",
    "), business_review AS(\n",
    "    SELECT businesses.business_id, year, month, COUNT() AS review_count, AVG(review.stars) AS avg_stars\n",
    "    FROM businesses\n",
    "    INNER JOIN review ON businesses.business_id=review.business_id\n",
    "    GROUP BY businesses.business_id, year, month\n",
    "), business_tips AS(\n",
    "    SELECT businesses.business_id, year, month, COUNT() AS tip_count\n",
    "    FROM businesses\n",
    "    INNER JOIN tip ON businesses.business_id=tip.business_id\n",
    "    GROUP BY businesses.business_id, year, month\n",
    ")\n",
    "SELECT * FROM business_tips"
   ]
  },
  {
   "cell_type": "code",
   "execution_count": null,
   "metadata": {
    "collapsed": true
   },
   "outputs": [],
   "source": []
  },
  {
   "cell_type": "code",
   "execution_count": null,
   "metadata": {
    "collapsed": true
   },
   "outputs": [],
   "source": []
  }
 ],
 "metadata": {
  "kernelspec": {
   "display_name": "Python 2",
   "language": "python",
   "name": "python2"
  },
  "language_info": {
   "codemirror_mode": {
    "name": "ipython",
    "version": 2
   },
   "file_extension": ".py",
   "mimetype": "text/x-python",
   "name": "python",
   "nbconvert_exporter": "python",
   "pygments_lexer": "ipython2",
   "version": "2.7.11"
  }
 },
 "nbformat": 4,
 "nbformat_minor": 0
}
